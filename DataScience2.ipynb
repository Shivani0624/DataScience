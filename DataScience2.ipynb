{
 "cells": [
  {
   "cell_type": "code",
   "execution_count": 1,
   "id": "af8819b2-e92a-460c-9030-72d83f3c9160",
   "metadata": {},
   "outputs": [
    {
     "name": "stdout",
     "output_type": "stream",
     "text": [
      "Hi Shivani Singh, how are you doing?\n"
     ]
    }
   ],
   "source": [
    "print (\"Hi Shivani Singh, how are you doing?\")"
   ]
  },
  {
   "cell_type": "code",
   "execution_count": 3,
   "id": "c0ea341b-52fe-4f76-8b2f-8d2619bb2350",
   "metadata": {},
   "outputs": [
    {
     "name": "stdout",
     "output_type": "stream",
     "text": [
      "I'm good, what about you?\n"
     ]
    }
   ],
   "source": [
    "print (\"I'm good, what about you?\")"
   ]
  },
  {
   "cell_type": "code",
   "execution_count": 5,
   "id": "025cd480-48a2-4277-b00c-c3cd94e8e900",
   "metadata": {},
   "outputs": [
    {
     "name": "stdout",
     "output_type": "stream",
     "text": [
      " Please look into this.  \n"
     ]
    }
   ],
   "source": [
    "print (\" Please look into this.  \")"
   ]
  },
  {
   "cell_type": "code",
   "execution_count": 10,
   "id": "9780835b-8afc-40f4-8eb7-5fe897bb8572",
   "metadata": {},
   "outputs": [
    {
     "data": {
      "text/plain": [
       "623"
      ]
     },
     "execution_count": 10,
     "metadata": {},
     "output_type": "execute_result"
    }
   ],
   "source": [
    "56+567"
   ]
  },
  {
   "cell_type": "code",
   "execution_count": 12,
   "id": "06ebf8d9-8990-46a8-ab79-d6fdcc34da8a",
   "metadata": {},
   "outputs": [
    {
     "data": {
      "text/plain": [
       "390"
      ]
     },
     "execution_count": 12,
     "metadata": {},
     "output_type": "execute_result"
    }
   ],
   "source": [
    "65*6"
   ]
  },
  {
   "cell_type": "code",
   "execution_count": null,
   "id": "771bcd10-bc82-4cee-aec8-c92d7e9f1612",
   "metadata": {},
   "outputs": [],
   "source": []
  }
 ],
 "metadata": {
  "kernelspec": {
   "display_name": "Python 3 (ipykernel)",
   "language": "python",
   "name": "python3"
  },
  "language_info": {
   "codemirror_mode": {
    "name": "ipython",
    "version": 3
   },
   "file_extension": ".py",
   "mimetype": "text/x-python",
   "name": "python",
   "nbconvert_exporter": "python",
   "pygments_lexer": "ipython3",
   "version": "3.12.4"
  }
 },
 "nbformat": 4,
 "nbformat_minor": 5
}
